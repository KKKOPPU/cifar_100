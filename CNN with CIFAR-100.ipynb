{
 "cells": [
  {
   "cell_type": "code",
   "execution_count": 1,
   "metadata": {},
   "outputs": [],
   "source": [
    "from keras.datasets import cifar100\n",
    "import matplotlib.pyplot as plt\n",
    "from tensorflow.keras.utils import to_categorical\n",
    "from keras.models import Sequential\n",
    "from keras.layers import Dense,Conv2D,MaxPool2D,Flatten,Dropout\n",
    "import cv2\n",
    "from sklearn.metrics import classification_report"
   ]
  },
  {
   "cell_type": "code",
   "execution_count": 2,
   "metadata": {},
   "outputs": [
    {
     "name": "stdout",
     "output_type": "stream",
     "text": [
      "Downloading data from https://www.cs.toronto.edu/~kriz/cifar-100-python.tar.gz\n",
      "169009152/169001437 [==============================] - 40s 0us/step\n",
      "169017344/169001437 [==============================] - 40s 0us/step\n"
     ]
    }
   ],
   "source": [
    "(x_train,y_train),(x_test,y_test) = cifar100.load_data()"
   ]
  },
  {
   "cell_type": "code",
   "execution_count": 3,
   "metadata": {},
   "outputs": [
    {
     "data": {
      "text/plain": [
       "(50000, 32, 32, 3)"
      ]
     },
     "execution_count": 3,
     "metadata": {},
     "output_type": "execute_result"
    }
   ],
   "source": [
    "x_train.shape"
   ]
  },
  {
   "cell_type": "code",
   "execution_count": 4,
   "metadata": {},
   "outputs": [
    {
     "data": {
      "text/plain": [
       "(50000, 1)"
      ]
     },
     "execution_count": 4,
     "metadata": {},
     "output_type": "execute_result"
    }
   ],
   "source": [
    "y_train.shape"
   ]
  },
  {
   "cell_type": "code",
   "execution_count": 5,
   "metadata": {},
   "outputs": [
    {
     "data": {
      "text/plain": [
       "(10000, 32, 32, 3)"
      ]
     },
     "execution_count": 5,
     "metadata": {},
     "output_type": "execute_result"
    }
   ],
   "source": [
    "x_test.shape"
   ]
  },
  {
   "cell_type": "code",
   "execution_count": 6,
   "metadata": {},
   "outputs": [
    {
     "data": {
      "text/plain": [
       "(10000, 1)"
      ]
     },
     "execution_count": 6,
     "metadata": {},
     "output_type": "execute_result"
    }
   ],
   "source": [
    "y_test.shape"
   ]
  },
  {
   "cell_type": "code",
   "execution_count": 13,
   "metadata": {},
   "outputs": [],
   "source": [
    "x_train = x_train / 255\n",
    "x_test = x_test / 255"
   ]
  },
  {
   "cell_type": "code",
   "execution_count": 14,
   "metadata": {},
   "outputs": [],
   "source": [
    "y_cat_train = to_categorical(y_train)\n",
    "y_cat_test = to_categorical(y_test)"
   ]
  },
  {
   "cell_type": "code",
   "execution_count": 26,
   "metadata": {},
   "outputs": [],
   "source": [
    "model = Sequential()\n",
    "\n",
    "model.add(Conv2D(filters=64,kernel_size=(3,3),input_shape=(32,32,3),activation='relu'))\n",
    "model.add(Conv2D(filters=64,kernel_size=(3,3),activation='relu'))\n",
    "model.add(MaxPool2D(pool_size=(2,2)))\n",
    "\n",
    "model.add(Conv2D(filters=128,kernel_size=(3,3),activation='relu'))\n",
    "model.add(Conv2D(filters=128,kernel_size=(3,3),activation='relu'))\n",
    "model.add(MaxPool2D(pool_size=(2,2)))\n",
    "\n",
    "model.add(Dropout(0.25))\n",
    "model.add(Flatten())\n",
    "\n",
    "model.add(Dense(1024,activation='relu'))\n",
    "model.add(Dropout(0.25))\n",
    "model.add(Dense(100,activation='softmax'))\n",
    "\n",
    "model.compile(loss='categorical_crossentropy',\n",
    "             optimizer='rmsprop',\n",
    "             metrics=['accuracy'])"
   ]
  },
  {
   "cell_type": "code",
   "execution_count": 27,
   "metadata": {},
   "outputs": [
    {
     "name": "stdout",
     "output_type": "stream",
     "text": [
      "Model: \"sequential_5\"\n",
      "_________________________________________________________________\n",
      "Layer (type)                 Output Shape              Param #   \n",
      "=================================================================\n",
      "conv2d_26 (Conv2D)           (None, 30, 30, 64)        1792      \n",
      "_________________________________________________________________\n",
      "conv2d_27 (Conv2D)           (None, 28, 28, 64)        36928     \n",
      "_________________________________________________________________\n",
      "max_pooling2d_13 (MaxPooling (None, 14, 14, 64)        0         \n",
      "_________________________________________________________________\n",
      "conv2d_28 (Conv2D)           (None, 12, 12, 128)       73856     \n",
      "_________________________________________________________________\n",
      "conv2d_29 (Conv2D)           (None, 10, 10, 128)       147584    \n",
      "_________________________________________________________________\n",
      "max_pooling2d_14 (MaxPooling (None, 5, 5, 128)         0         \n",
      "_________________________________________________________________\n",
      "dropout_4 (Dropout)          (None, 5, 5, 128)         0         \n",
      "_________________________________________________________________\n",
      "flatten_2 (Flatten)          (None, 3200)              0         \n",
      "_________________________________________________________________\n",
      "dense_4 (Dense)              (None, 1024)              3277824   \n",
      "_________________________________________________________________\n",
      "dropout_5 (Dropout)          (None, 1024)              0         \n",
      "_________________________________________________________________\n",
      "dense_5 (Dense)              (None, 100)               102500    \n",
      "=================================================================\n",
      "Total params: 3,640,484\n",
      "Trainable params: 3,640,484\n",
      "Non-trainable params: 0\n",
      "_________________________________________________________________\n"
     ]
    }
   ],
   "source": [
    "model.summary()"
   ]
  },
  {
   "cell_type": "code",
   "execution_count": 28,
   "metadata": {},
   "outputs": [
    {
     "name": "stderr",
     "output_type": "stream",
     "text": [
      "<frozen importlib._bootstrap>:219: RuntimeWarning: numpy.ufunc size changed, may indicate binary incompatibility. Expected 192 from C header, got 216 from PyObject\n"
     ]
    },
    {
     "name": "stdout",
     "output_type": "stream",
     "text": [
      "Epoch 1/20\n",
      "391/391 [==============================] - 205s 464ms/step - loss: 4.3102 - accuracy: 0.0508\n",
      "Epoch 2/20\n",
      "391/391 [==============================] - 178s 457ms/step - loss: 3.3008 - accuracy: 0.2107\n",
      "Epoch 3/20\n",
      "391/391 [==============================] - 170s 434ms/step - loss: 2.8049 - accuracy: 0.3052\n",
      "Epoch 4/20\n",
      "391/391 [==============================] - 166s 425ms/step - loss: 2.4296 - accuracy: 0.3824\n",
      "Epoch 5/20\n",
      "391/391 [==============================] - 171s 436ms/step - loss: 2.1129 - accuracy: 0.4529\n",
      "Epoch 6/20\n",
      "391/391 [==============================] - 167s 428ms/step - loss: 1.8572 - accuracy: 0.5056\n",
      "Epoch 7/20\n",
      "391/391 [==============================] - 169s 432ms/step - loss: 1.6150 - accuracy: 0.5647\n",
      "Epoch 8/20\n",
      "391/391 [==============================] - 168s 428ms/step - loss: 1.4111 - accuracy: 0.6112\n",
      "Epoch 9/20\n",
      "391/391 [==============================] - 169s 433ms/step - loss: 1.2387 - accuracy: 0.6510\n",
      "Epoch 10/20\n",
      "391/391 [==============================] - 167s 428ms/step - loss: 1.1031 - accuracy: 0.6823\n",
      "Epoch 11/20\n",
      "391/391 [==============================] - 167s 427ms/step - loss: 0.9682 - accuracy: 0.7199\n",
      "Epoch 12/20\n",
      "391/391 [==============================] - 167s 426ms/step - loss: 0.8732 - accuracy: 0.7437\n",
      "Epoch 13/20\n",
      "391/391 [==============================] - 168s 431ms/step - loss: 0.7803 - accuracy: 0.7692\n",
      "Epoch 14/20\n",
      "391/391 [==============================] - 167s 427ms/step - loss: 0.7097 - accuracy: 0.7914\n",
      "Epoch 15/20\n",
      "391/391 [==============================] - 169s 432ms/step - loss: 0.6584 - accuracy: 0.8032\n",
      "Epoch 16/20\n",
      "391/391 [==============================] - 167s 428ms/step - loss: 0.6148 - accuracy: 0.8166\n",
      "Epoch 17/20\n",
      "391/391 [==============================] - 168s 428ms/step - loss: 0.6043 - accuracy: 0.8193\n",
      "Epoch 18/20\n",
      "391/391 [==============================] - 168s 431ms/step - loss: 0.5760 - accuracy: 0.8291\n",
      "Epoch 19/20\n",
      "391/391 [==============================] - 165s 421ms/step - loss: 0.5632 - accuracy: 0.8350\n",
      "Epoch 20/20\n",
      "391/391 [==============================] - 166s 425ms/step - loss: 0.5399 - accuracy: 0.8408\n"
     ]
    },
    {
     "data": {
      "text/plain": [
       "<keras.callbacks.History at 0x1e473c7e580>"
      ]
     },
     "execution_count": 28,
     "metadata": {},
     "output_type": "execute_result"
    }
   ],
   "source": [
    "model.fit(x_train,y_cat_train,batch_size=128,epochs=20)"
   ]
  },
  {
   "cell_type": "code",
   "execution_count": 29,
   "metadata": {},
   "outputs": [
    {
     "name": "stdout",
     "output_type": "stream",
     "text": [
      "313/313 [==============================] - 9s 26ms/step - loss: 2.8057 - accuracy: 0.4627\n"
     ]
    },
    {
     "data": {
      "text/plain": [
       "[2.8057377338409424, 0.4627000093460083]"
      ]
     },
     "execution_count": 29,
     "metadata": {},
     "output_type": "execute_result"
    }
   ],
   "source": [
    "model.evaluate(x_test,y_cat_test)"
   ]
  },
  {
   "cell_type": "code",
   "execution_count": 30,
   "metadata": {},
   "outputs": [],
   "source": [
    "model.save('cifar_100.h5')"
   ]
  },
  {
   "cell_type": "code",
   "execution_count": 34,
   "metadata": {},
   "outputs": [
    {
     "name": "stderr",
     "output_type": "stream",
     "text": [
      "C:\\Users\\koppu\\anaconda3\\lib\\site-packages\\keras\\engine\\sequential.py:450: UserWarning: `model.predict_classes()` is deprecated and will be removed after 2021-01-01. Please use instead:* `np.argmax(model.predict(x), axis=-1)`,   if your model does multi-class classification   (e.g. if it uses a `softmax` last-layer activation).* `(model.predict(x) > 0.5).astype(\"int32\")`,   if your model does binary classification   (e.g. if it uses a `sigmoid` last-layer activation).\n",
      "  warnings.warn('`model.predict_classes()` is deprecated and '\n"
     ]
    }
   ],
   "source": [
    "predictions = model.predict_classes(x_test)"
   ]
  },
  {
   "cell_type": "code",
   "execution_count": 37,
   "metadata": {},
   "outputs": [
    {
     "name": "stdout",
     "output_type": "stream",
     "text": [
      "              precision    recall  f1-score   support\n",
      "\n",
      "           0       0.65      0.72      0.68       100\n",
      "           1       0.54      0.57      0.55       100\n",
      "           2       0.37      0.37      0.37       100\n",
      "           3       0.35      0.23      0.28       100\n",
      "           4       0.28      0.41      0.33       100\n",
      "           5       0.34      0.28      0.31       100\n",
      "           6       0.50      0.50      0.50       100\n",
      "           7       0.56      0.50      0.53       100\n",
      "           8       0.69      0.46      0.55       100\n",
      "           9       0.54      0.61      0.57       100\n",
      "          10       0.25      0.39      0.30       100\n",
      "          11       0.33      0.27      0.30       100\n",
      "          12       0.49      0.46      0.48       100\n",
      "          13       0.34      0.39      0.36       100\n",
      "          14       0.43      0.40      0.41       100\n",
      "          15       0.51      0.37      0.43       100\n",
      "          16       0.46      0.41      0.43       100\n",
      "          17       0.63      0.57      0.60       100\n",
      "          18       0.43      0.44      0.43       100\n",
      "          19       0.56      0.29      0.38       100\n",
      "          20       0.68      0.70      0.69       100\n",
      "          21       0.58      0.58      0.58       100\n",
      "          22       0.58      0.41      0.48       100\n",
      "          23       0.71      0.57      0.63       100\n",
      "          24       0.45      0.81      0.57       100\n",
      "          25       0.24      0.37      0.29       100\n",
      "          26       0.29      0.46      0.36       100\n",
      "          27       0.23      0.43      0.30       100\n",
      "          28       0.66      0.62      0.64       100\n",
      "          29       0.38      0.54      0.45       100\n",
      "          30       0.42      0.50      0.46       100\n",
      "          31       0.49      0.37      0.42       100\n",
      "          32       0.43      0.39      0.41       100\n",
      "          33       0.43      0.37      0.40       100\n",
      "          34       0.54      0.33      0.41       100\n",
      "          35       0.30      0.25      0.27       100\n",
      "          36       0.66      0.37      0.47       100\n",
      "          37       0.60      0.31      0.41       100\n",
      "          38       0.30      0.37      0.33       100\n",
      "          39       0.47      0.60      0.53       100\n",
      "          40       0.35      0.48      0.41       100\n",
      "          41       0.56      0.78      0.65       100\n",
      "          42       0.49      0.42      0.45       100\n",
      "          43       0.48      0.49      0.49       100\n",
      "          44       0.21      0.19      0.20       100\n",
      "          45       0.21      0.39      0.27       100\n",
      "          46       0.29      0.28      0.29       100\n",
      "          47       0.55      0.64      0.59       100\n",
      "          48       0.58      0.76      0.66       100\n",
      "          49       0.55      0.49      0.52       100\n",
      "          50       0.31      0.19      0.24       100\n",
      "          51       0.49      0.37      0.42       100\n",
      "          52       0.54      0.73      0.62       100\n",
      "          53       0.60      0.78      0.68       100\n",
      "          54       0.66      0.39      0.49       100\n",
      "          55       0.17      0.14      0.15       100\n",
      "          56       0.77      0.62      0.69       100\n",
      "          57       0.63      0.46      0.53       100\n",
      "          58       0.60      0.67      0.63       100\n",
      "          59       0.57      0.46      0.51       100\n",
      "          60       0.70      0.75      0.72       100\n",
      "          61       0.60      0.50      0.55       100\n",
      "          62       0.55      0.58      0.56       100\n",
      "          63       0.47      0.40      0.43       100\n",
      "          64       0.32      0.24      0.28       100\n",
      "          65       0.34      0.27      0.30       100\n",
      "          66       0.70      0.45      0.55       100\n",
      "          67       0.37      0.36      0.37       100\n",
      "          68       0.73      0.74      0.74       100\n",
      "          69       0.73      0.61      0.67       100\n",
      "          70       0.53      0.39      0.45       100\n",
      "          71       0.66      0.61      0.64       100\n",
      "          72       0.26      0.14      0.18       100\n",
      "          73       0.36      0.39      0.38       100\n",
      "          74       0.29      0.30      0.30       100\n",
      "          75       0.70      0.70      0.70       100\n",
      "          76       0.88      0.65      0.75       100\n",
      "          77       0.29      0.36      0.32       100\n",
      "          78       0.19      0.21      0.20       100\n",
      "          79       0.71      0.36      0.48       100\n",
      "          80       0.61      0.23      0.33       100\n",
      "          81       0.44      0.60      0.51       100\n",
      "          82       0.76      0.74      0.75       100\n",
      "          83       0.34      0.49      0.40       100\n",
      "          84       0.48      0.29      0.36       100\n",
      "          85       0.63      0.46      0.53       100\n",
      "          86       0.49      0.54      0.51       100\n",
      "          87       0.50      0.53      0.51       100\n",
      "          88       0.49      0.52      0.50       100\n",
      "          89       0.64      0.43      0.51       100\n",
      "          90       0.38      0.47      0.42       100\n",
      "          91       0.45      0.63      0.53       100\n",
      "          92       0.31      0.44      0.37       100\n",
      "          93       0.26      0.25      0.25       100\n",
      "          94       0.74      0.78      0.76       100\n",
      "          95       0.36      0.58      0.45       100\n",
      "          96       0.64      0.27      0.38       100\n",
      "          97       0.46      0.49      0.47       100\n",
      "          98       0.24      0.30      0.27       100\n",
      "          99       0.41      0.50      0.45       100\n",
      "\n",
      "    accuracy                           0.46     10000\n",
      "   macro avg       0.48      0.46      0.46     10000\n",
      "weighted avg       0.48      0.46      0.46     10000\n",
      "\n"
     ]
    }
   ],
   "source": [
    "print(classification_report(y_test,predictions))"
   ]
  },
  {
   "cell_type": "markdown",
   "metadata": {},
   "source": [
    "Prediction 1 (Landline phone)"
   ]
  },
  {
   "cell_type": "code",
   "execution_count": 82,
   "metadata": {},
   "outputs": [
    {
     "data": {
      "text/plain": [
       "<matplotlib.image.AxesImage at 0x1e401660b80>"
      ]
     },
     "execution_count": 82,
     "metadata": {},
     "output_type": "execute_result"
    },
    {
     "data": {
      "image/png": "[encoded data removed]",
      "text/plain": [
       "<Figure size 432x288 with 1 Axes>"
      ]
     },
     "metadata": {
      "needs_background": "light"
     },
     "output_type": "display_data"
    }
   ],
   "source": [
    "plt.imshow(x_train[5])"
   ]
  },
  {
   "cell_type": "code",
   "execution_count": 83,
   "metadata": {},
   "outputs": [
    {
     "data": {
      "text/plain": [
       "array([86])"
      ]
     },
     "execution_count": 83,
     "metadata": {},
     "output_type": "execute_result"
    }
   ],
   "source": [
    "y_train[5]"
   ]
  },
  {
   "cell_type": "code",
   "execution_count": 84,
   "metadata": {},
   "outputs": [
    {
     "name": "stdout",
     "output_type": "stream",
     "text": [
      "(32, 32, 3)\n"
     ]
    },
    {
     "data": {
      "text/plain": [
       "(1, 32, 32, 3)"
      ]
     },
     "execution_count": 84,
     "metadata": {},
     "output_type": "execute_result"
    }
   ],
   "source": [
    "test_img1 = cv2.imread(\"cifar_100_test1.jpg\")\n",
    "print(test_img1.shape) # Need to match x_test.shape = (10000,32,32,3)\n",
    "test_img1 = test_img1.reshape(1,32,32,3)\n",
    "test_img1.shape"
   ]
  },
  {
   "cell_type": "code",
   "execution_count": 85,
   "metadata": {},
   "outputs": [
    {
     "data": {
      "text/plain": [
       "array([86], dtype=int64)"
      ]
     },
     "execution_count": 85,
     "metadata": {},
     "output_type": "execute_result"
    }
   ],
   "source": [
    "model.predict_classes(test_img1) # predicted correctly as landline phone"
   ]
  },
  {
   "cell_type": "markdown",
   "metadata": {},
   "source": [
    "Prediction 2 (Keyboard)"
   ]
  },
  {
   "cell_type": "code",
   "execution_count": 86,
   "metadata": {},
   "outputs": [
    {
     "data": {
      "text/plain": [
       "<matplotlib.image.AxesImage at 0x1e40151f1f0>"
      ]
     },
     "execution_count": 86,
     "metadata": {},
     "output_type": "execute_result"
    },
    {
     "data": {
      "image/png": "[encoded data removed]",
      "text/plain": [
       "<Figure size 432x288 with 1 Axes>"
      ]
     },
     "metadata": {
      "needs_background": "light"
     },
     "output_type": "display_data"
    }
   ],
   "source": [
    "plt.imshow(x_train[10])"
   ]
  },
  {
   "cell_type": "code",
   "execution_count": 87,
   "metadata": {},
   "outputs": [
    {
     "data": {
      "text/plain": [
       "array([39])"
      ]
     },
     "execution_count": 87,
     "metadata": {},
     "output_type": "execute_result"
    }
   ],
   "source": [
    "y_train[10]"
   ]
  },
  {
   "cell_type": "code",
   "execution_count": 88,
   "metadata": {},
   "outputs": [
    {
     "name": "stdout",
     "output_type": "stream",
     "text": [
      "(32, 32, 3)\n"
     ]
    },
    {
     "data": {
      "text/plain": [
       "(1, 32, 32, 3)"
      ]
     },
     "execution_count": 88,
     "metadata": {},
     "output_type": "execute_result"
    }
   ],
   "source": [
    "test_img2 = cv2.imread(\"cifar_100_test2.jpg\")\n",
    "print(test_img2.shape) # Need to match x_test.shape = (10000,32,32,3)\n",
    "test_img2 = test_img2.reshape(1,32,32,3)\n",
    "test_img2.shape"
   ]
  },
  {
   "cell_type": "code",
   "execution_count": 89,
   "metadata": {},
   "outputs": [
    {
     "data": {
      "text/plain": [
       "array([39], dtype=int64)"
      ]
     },
     "execution_count": 89,
     "metadata": {},
     "output_type": "execute_result"
    }
   ],
   "source": [
    "model.predict_classes(test_img2) # Predicted properly as keyboard"
   ]
  }
 ],
 "metadata": {
  "kernelspec": {
   "display_name": "Python 3",
   "language": "python",
   "name": "python3"
  },
  "language_info": {
   "codemirror_mode": {
    "name": "ipython",
    "version": 3
   },
   "file_extension": ".py",
   "mimetype": "text/x-python",
   "name": "python",
   "nbconvert_exporter": "python",
   "pygments_lexer": "ipython3",
   "version": "3.8.3"
  }
 },
 "nbformat": 4,
 "nbformat_minor": 4
}
